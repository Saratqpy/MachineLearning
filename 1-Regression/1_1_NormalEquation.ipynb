{
  "nbformat": 4,
  "nbformat_minor": 0,
  "metadata": {
    "colab": {
      "provenance": []
    },
    "kernelspec": {
      "name": "python3",
      "display_name": "Python 3"
    },
    "language_info": {
      "name": "python"
    }
  },
  "cells": [
    {
      "cell_type": "code",
      "source": [
        "import numpy as np\n",
        "from numpy.linalg import pinv  # pseudo-inverse\n",
        "\n",
        "np.set_printoptions(precision=2, sign=' ', suppress=True)"
      ],
      "metadata": {
        "id": "oycpBeYPSZ_S"
      },
      "execution_count": 26,
      "outputs": []
    },
    {
      "cell_type": "code",
      "source": [
        "X = np.array([[1, 2104, 5, 1, 45],\n",
        "              [1, 1416, 3, 2, 40],\n",
        "              [1, 1534, 3, 2, 30],\n",
        "              [1,  852, 2, 1, 36]])"
      ],
      "metadata": {
        "id": "OU3gf8oFSeCR"
      },
      "execution_count": 27,
      "outputs": []
    },
    {
      "cell_type": "code",
      "source": [
        "X"
      ],
      "metadata": {
        "colab": {
          "base_uri": "https://localhost:8080/"
        },
        "id": "C_3W6boESg_7",
        "outputId": "09c8f8cb-63ef-44ec-8d5e-d3d5d741b089"
      },
      "execution_count": 28,
      "outputs": [
        {
          "output_type": "execute_result",
          "data": {
            "text/plain": [
              "array([[   1, 2104,    5,    1,   45],\n",
              "       [   1, 1416,    3,    2,   40],\n",
              "       [   1, 1534,    3,    2,   30],\n",
              "       [   1,  852,    2,    1,   36]])"
            ]
          },
          "metadata": {},
          "execution_count": 28
        }
      ]
    },
    {
      "cell_type": "code",
      "source": [
        "X.shape"
      ],
      "metadata": {
        "colab": {
          "base_uri": "https://localhost:8080/"
        },
        "id": "TtmRhr-OSi_K",
        "outputId": "f15514c8-635d-4e71-f719-17195ec36ca3"
      },
      "execution_count": 29,
      "outputs": [
        {
          "output_type": "execute_result",
          "data": {
            "text/plain": [
              "(4, 5)"
            ]
          },
          "metadata": {},
          "execution_count": 29
        }
      ]
    },
    {
      "cell_type": "code",
      "source": [
        "y = np.array([[460.],\n",
        "              [232.],\n",
        "              [315.],\n",
        "              [178.]])"
      ],
      "metadata": {
        "id": "8cTVe8qVSprp"
      },
      "execution_count": 30,
      "outputs": []
    },
    {
      "cell_type": "code",
      "source": [
        "theta = pinv(X) @ y"
      ],
      "metadata": {
        "id": "JckRFUfTSu5D"
      },
      "execution_count": 31,
      "outputs": []
    },
    {
      "cell_type": "code",
      "source": [
        "theta"
      ],
      "metadata": {
        "colab": {
          "base_uri": "https://localhost:8080/"
        },
        "id": "_GUCouiXSztR",
        "outputId": "a6a4bdf1-20b8-4dd2-be09-67861b85fc97"
      },
      "execution_count": 32,
      "outputs": [
        {
          "output_type": "execute_result",
          "data": {
            "text/plain": [
              "array([[188.4 ],\n",
              "       [  0.39],\n",
              "       [-56.14],\n",
              "       [-92.97],\n",
              "       [ -3.74]])"
            ]
          },
          "metadata": {},
          "execution_count": 32
        }
      ]
    },
    {
      "cell_type": "code",
      "source": [
        "print(X @ theta)"
      ],
      "metadata": {
        "colab": {
          "base_uri": "https://localhost:8080/"
        },
        "id": "dag42iimS2qw",
        "outputId": "5f907324-0867-41be-bfbc-e51e34e84529"
      },
      "execution_count": 33,
      "outputs": [
        {
          "output_type": "stream",
          "name": "stdout",
          "text": [
            "[[ 460.]\n",
            " [ 232.]\n",
            " [ 315.]\n",
            " [ 178.]]\n"
          ]
        }
      ]
    },
    {
      "cell_type": "code",
      "source": [
        "print(y)"
      ],
      "metadata": {
        "colab": {
          "base_uri": "https://localhost:8080/"
        },
        "id": "tb8Y5m_nS6zn",
        "outputId": "4ac1504e-7503-4b89-ec1b-1446a23b09da"
      },
      "execution_count": 34,
      "outputs": [
        {
          "output_type": "stream",
          "name": "stdout",
          "text": [
            "[[ 460.]\n",
            " [ 232.]\n",
            " [ 315.]\n",
            " [ 178.]]\n"
          ]
        }
      ]
    },
    {
      "cell_type": "code",
      "source": [
        "np.allclose(X @ theta, y)"
      ],
      "metadata": {
        "colab": {
          "base_uri": "https://localhost:8080/"
        },
        "id": "8VTrttHlTyQ2",
        "outputId": "523b2754-519a-4b60-9959-d8cf950ec3db"
      },
      "execution_count": 35,
      "outputs": [
        {
          "output_type": "execute_result",
          "data": {
            "text/plain": [
              "True"
            ]
          },
          "metadata": {},
          "execution_count": 35
        }
      ]
    },
    {
      "cell_type": "code",
      "source": [
        "theta = pinv(X.T @ X) @ X.T @ y"
      ],
      "metadata": {
        "id": "OzBlA5hlT6db"
      },
      "execution_count": 36,
      "outputs": []
    },
    {
      "cell_type": "code",
      "source": [
        "from numpy.linalg import inv, pinv"
      ],
      "metadata": {
        "id": "BY0lK4w8UAr4"
      },
      "execution_count": 37,
      "outputs": []
    },
    {
      "cell_type": "code",
      "source": [
        "A = np.random.randn(3, 3)"
      ],
      "metadata": {
        "id": "K0MOuhAJUYF-"
      },
      "execution_count": 49,
      "outputs": []
    },
    {
      "cell_type": "code",
      "source": [
        "A.shape"
      ],
      "metadata": {
        "colab": {
          "base_uri": "https://localhost:8080/"
        },
        "id": "IRQqlbbEUkdw",
        "outputId": "5c4ea128-bc62-4c45-b645-44cadc7bd677"
      },
      "execution_count": 50,
      "outputs": [
        {
          "output_type": "execute_result",
          "data": {
            "text/plain": [
              "(3, 3)"
            ]
          },
          "metadata": {},
          "execution_count": 50
        }
      ]
    },
    {
      "cell_type": "code",
      "source": [
        "A"
      ],
      "metadata": {
        "colab": {
          "base_uri": "https://localhost:8080/"
        },
        "id": "xHDM2bCHVuq_",
        "outputId": "9bbeb4a2-8926-4986-9036-e9eeaea832d5"
      },
      "execution_count": 53,
      "outputs": [
        {
          "output_type": "execute_result",
          "data": {
            "text/plain": [
              "array([[ 1.04,  0.8 , -0.72],\n",
              "       [ 0.18, -1.54, -1.59],\n",
              "       [ 0.13, -2.67,  0.94]])"
            ]
          },
          "metadata": {},
          "execution_count": 53
        }
      ]
    },
    {
      "cell_type": "code",
      "source": [
        "inv(A)"
      ],
      "metadata": {
        "colab": {
          "base_uri": "https://localhost:8080/"
        },
        "id": "57dxvxYoUty8",
        "outputId": "09602d62-773c-4456-a6f5-c124b7e15427"
      },
      "execution_count": 52,
      "outputs": [
        {
          "output_type": "execute_result",
          "data": {
            "text/plain": [
              "array([[ 0.95, -0.19,  0.4 ],\n",
              "       [ 0.06, -0.18, -0.25],\n",
              "       [ 0.04, -0.48,  0.29]])"
            ]
          },
          "metadata": {},
          "execution_count": 52
        }
      ]
    },
    {
      "cell_type": "code",
      "source": [
        "pinv(A)"
      ],
      "metadata": {
        "colab": {
          "base_uri": "https://localhost:8080/"
        },
        "id": "X6b3RuzdVwo3",
        "outputId": "ddade4e3-fd5d-48df-9559-64af8aaf3831"
      },
      "execution_count": 54,
      "outputs": [
        {
          "output_type": "execute_result",
          "data": {
            "text/plain": [
              "array([[ 0.95, -0.19,  0.4 ],\n",
              "       [ 0.06, -0.18, -0.25],\n",
              "       [ 0.04, -0.48,  0.29]])"
            ]
          },
          "metadata": {},
          "execution_count": 54
        }
      ]
    },
    {
      "cell_type": "code",
      "source": [
        "np.allclose(inv(A), pinv(A))"
      ],
      "metadata": {
        "colab": {
          "base_uri": "https://localhost:8080/"
        },
        "id": "VrSbZ4uxVzN5",
        "outputId": "874979a4-0ae2-4e92-fb53-93bf706d45d6"
      },
      "execution_count": 55,
      "outputs": [
        {
          "output_type": "execute_result",
          "data": {
            "text/plain": [
              "True"
            ]
          },
          "metadata": {},
          "execution_count": 55
        }
      ]
    },
    {
      "cell_type": "code",
      "source": [
        "A = np.array([[1, 2, 3],\n",
        "              [4, 5, 6],\n",
        "              [2, 4, 6]])"
      ],
      "metadata": {
        "id": "iWwElAmhWDCu"
      },
      "execution_count": 56,
      "outputs": []
    },
    {
      "cell_type": "code",
      "source": [
        "pinv(A)"
      ],
      "metadata": {
        "colab": {
          "base_uri": "https://localhost:8080/"
        },
        "id": "pg-bqRbWWD91",
        "outputId": "749cdc6d-8a51-4f52-8d7c-e7f478723e5e"
      },
      "execution_count": 58,
      "outputs": [
        {
          "output_type": "execute_result",
          "data": {
            "text/plain": [
              "array([[-0.19,  0.44, -0.38],\n",
              "       [-0.02,  0.11, -0.04],\n",
              "       [ 0.14, -0.22,  0.29]])"
            ]
          },
          "metadata": {},
          "execution_count": 58
        }
      ]
    },
    {
      "cell_type": "code",
      "source": [
        "X = np.array([[1, 2104, 5, 1, 45],\n",
        "              [1, 1416, 3, 2, 40],\n",
        "              [1, 1534, 3, 2, 30],\n",
        "              [1,  852, 2, 1, 36],\n",
        "              [1, 3000, 4, 1, 38]])"
      ],
      "metadata": {
        "id": "IsgcHd6eWxyt"
      },
      "execution_count": 60,
      "outputs": []
    },
    {
      "cell_type": "code",
      "source": [
        "y = np.array([[460.],\n",
        "              [232.],\n",
        "              [315.],\n",
        "              [178.],\n",
        "              [540.]])"
      ],
      "metadata": {
        "id": "6i5tF_GrXF3W"
      },
      "execution_count": 61,
      "outputs": []
    },
    {
      "cell_type": "code",
      "source": [
        "theta = pinv(X.T @ X) @ X.T @ y"
      ],
      "metadata": {
        "id": "cmE5NHYHXLq_"
      },
      "execution_count": 62,
      "outputs": []
    },
    {
      "cell_type": "code",
      "source": [
        "theta"
      ],
      "metadata": {
        "colab": {
          "base_uri": "https://localhost:8080/"
        },
        "id": "6CATrJ7_XWQA",
        "outputId": "baf37f84-27c8-496a-de63-2dcc6ae44530"
      },
      "execution_count": 63,
      "outputs": [
        {
          "output_type": "execute_result",
          "data": {
            "text/plain": [
              "array([[247.03],\n",
              "       [  0.11],\n",
              "       [ 68.55],\n",
              "       [-49.32],\n",
              "       [ -6.99]])"
            ]
          },
          "metadata": {},
          "execution_count": 63
        }
      ]
    },
    {
      "cell_type": "code",
      "source": [
        "X @ theta"
      ],
      "metadata": {
        "colab": {
          "base_uri": "https://localhost:8080/"
        },
        "id": "B-Akj4hGXYdP",
        "outputId": "bc723012-fcba-4d94-b6a4-4f89c2705fb1"
      },
      "execution_count": 64,
      "outputs": [
        {
          "output_type": "execute_result",
          "data": {
            "text/plain": [
              "array([[ 460.],\n",
              "       [ 232.],\n",
              "       [ 315.],\n",
              "       [ 178.],\n",
              "       [ 540.]])"
            ]
          },
          "metadata": {},
          "execution_count": 64
        }
      ]
    },
    {
      "cell_type": "code",
      "source": [
        "y"
      ],
      "metadata": {
        "colab": {
          "base_uri": "https://localhost:8080/"
        },
        "id": "_slV4wKSXclf",
        "outputId": "1d63aaeb-f741-4253-9cac-88d488aca0a5"
      },
      "execution_count": 65,
      "outputs": [
        {
          "output_type": "execute_result",
          "data": {
            "text/plain": [
              "array([[ 460.],\n",
              "       [ 232.],\n",
              "       [ 315.],\n",
              "       [ 178.],\n",
              "       [ 540.]])"
            ]
          },
          "metadata": {},
          "execution_count": 65
        }
      ]
    }
  ]
}